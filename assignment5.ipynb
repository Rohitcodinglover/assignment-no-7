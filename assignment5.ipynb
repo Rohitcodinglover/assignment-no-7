{
 "cells": [
  {
   "cell_type": "code",
   "execution_count": 10,
   "id": "5eb0231d-5fdf-4ccd-af7b-ff013b687401",
   "metadata": {},
   "outputs": [
    {
     "name": "stdout",
     "output_type": "stream",
     "text": [
      "1\n",
      "2\n",
      "3\n",
      "4\n",
      "6\n",
      "7\n",
      "8\n",
      "9\n",
      "10\n"
     ]
    }
   ],
   "source": [
    "## 1)Write a program to print numbers from 1 to 10, but stop if the number is 5.\n",
    "l=[1,2,3,4,5,6,7,8,9,10]\n",
    "for i in l :\n",
    "    if i==5:\n",
    "     continue\n",
    "    print(i)\n",
    "    \n",
    "    "
   ]
  },
  {
   "cell_type": "code",
   "execution_count": 16,
   "id": "b93a4b81-a578-4ced-95b1-a1725afe9e3b",
   "metadata": {},
   "outputs": [
    {
     "name": "stdout",
     "output_type": "stream",
     "text": [
      "2\n",
      "3\n",
      "4\n",
      "5\n",
      "6\n",
      "5.6\n",
      "7.8\n"
     ]
    }
   ],
   "source": [
    "## 2) Write a program to iterate through a list and stop when encountering a specific element.\n",
    "list=[2,3,4,5,6,5.6,7.8,\"rohit\",\"pwskills\"]\n",
    "for i in list:\n",
    "     if i==\"rohit\":\n",
    "         break\n",
    "     print(i)\n",
    "else: \n",
    "    print(\"this loop are execute\")\n",
    "         "
   ]
  },
  {
   "cell_type": "code",
   "execution_count": 16,
   "id": "e6e65209-04e4-425c-a222-568d74f004bb",
   "metadata": {},
   "outputs": [
    {
     "name": "stdout",
     "output_type": "stream",
     "text": [
      "1\n",
      "3\n",
      "5\n",
      "7\n",
      "9\n"
     ]
    }
   ],
   "source": [
    "## Write a program to skip printing even numbers from 1 to 10.\n",
    "for i in range (1,11):\n",
    "    if i%2==0:\n",
    "        continue\n",
    "    print(i)"
   ]
  },
  {
   "cell_type": "code",
   "execution_count": 17,
   "id": "c6c4a045-ce61-4d3b-84f6-0f8650c45a83",
   "metadata": {},
   "outputs": [
    {
     "name": "stdout",
     "output_type": "stream",
     "text": [
      "0\n",
      "1\n",
      "2\n",
      "3\n",
      "4\n",
      "5\n",
      "6\n",
      "7\n",
      "8\n",
      "9\n"
     ]
    }
   ],
   "source": [
    "## Write a program to print numbers from 0 to 9 using range().\n",
    "\n",
    "for i in range (0,10):\n",
    "    print(i)"
   ]
  },
  {
   "cell_type": "code",
   "execution_count": 18,
   "id": "c8bdd368-75db-484e-a159-9dd822ec752d",
   "metadata": {},
   "outputs": [
    {
     "name": "stdout",
     "output_type": "stream",
     "text": [
      " 1  2  3  4  5  6  7  8  9 10 \n",
      "\n",
      " 2  4  6  8 10 12 14 16 18 20 \n",
      "\n",
      " 3  6  9 12 15 18 21 24 27 30 \n",
      "\n",
      " 4  8 12 16 20 24 28 32 36 40 \n",
      "\n",
      " 5 10 15 20 25 30 35 40 45 50 \n",
      "\n",
      " 6 12 18 24 30 36 42 48 54 60 \n",
      "\n",
      " 7 14 21 28 35 42 49 56 63 70 \n",
      "\n",
      " 8 16 24 32 40 48 56 64 72 80 \n",
      "\n",
      " 9 18 27 36 45 54 63 72 81 90 \n",
      "\n",
      "10 20 30 40 50 60 70 80 90 100 \n",
      "\n"
     ]
    }
   ],
   "source": [
    "## Write a program to print multiplication tables from 1 to 5, but stop after the first table is printed for each number.\n",
    "rows=10\n",
    "columns=10\n",
    "for i in range(1,rows+1):\n",
    "    for j in range(1,columns+1):\n",
    "        c=i*j\n",
    "        print(\"{:2d}\".format(c),end=' ')\n",
    "        #print(c , end=\"   \")\n",
    "    print(\"\\n\")"
   ]
  },
  {
   "cell_type": "code",
   "execution_count": null,
   "id": "4ec0d9db-6d32-4d74-ae13-f1392ca34efb",
   "metadata": {},
   "outputs": [],
   "source": [
    "## Write a program to skip printing even numbers using a while loop.\n",
    "i=2\n",
    "while i<10:\n",
    "  print(i)\n",
    "    i=i+2"
   ]
  },
  {
   "cell_type": "code",
   "execution_count": null,
   "id": "dd089450-9fdf-4ac8-ab09-ff2852ae7e07",
   "metadata": {},
   "outputs": [],
   "source": []
  },
  {
   "cell_type": "code",
   "execution_count": null,
   "id": "7b098e84-8f95-441b-9433-0794f8dfd335",
   "metadata": {},
   "outputs": [],
   "source": []
  }
 ],
 "metadata": {
  "kernelspec": {
   "display_name": "Python 3 (ipykernel)",
   "language": "python",
   "name": "python3"
  },
  "language_info": {
   "codemirror_mode": {
    "name": "ipython",
    "version": 3
   },
   "file_extension": ".py",
   "mimetype": "text/x-python",
   "name": "python",
   "nbconvert_exporter": "python",
   "pygments_lexer": "ipython3",
   "version": "3.12.4"
  }
 },
 "nbformat": 4,
 "nbformat_minor": 5
}
